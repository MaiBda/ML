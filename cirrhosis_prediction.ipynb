{
 "cells": [
  {
   "cell_type": "code",
   "execution_count": 2,
   "metadata": {},
   "outputs": [],
   "source": [
    "import pandas as pd \n",
    "import matplotlib.pyplot as plt\n",
    "import numpy as np\n",
    "import seaborn as sns\n",
    "from sklearn.impute import KNNImputer\n",
    "from sklearn import preprocessing\n",
    "from sklearn.model_selection import train_test_split\n",
    "import random\n",
    "\n"
   ]
  },
  {
   "cell_type": "code",
   "execution_count": null,
   "metadata": {
    "pycharm": {
     "is_executing": true
    }
   },
   "outputs": [],
   "source": [
    "df = pd.read_csv('cirrhosis.csv')\n",
    "df"
   ]
  },
  {
   "cell_type": "code",
   "execution_count": null,
   "metadata": {},
   "outputs": [],
   "source": [
    "df.nunique()"
   ]
  },
  {
   "cell_type": "code",
   "execution_count": null,
   "metadata": {},
   "outputs": [],
   "source": [
    "df.describe()"
   ]
  },
  {
   "cell_type": "code",
   "execution_count": 71,
   "metadata": {},
   "outputs": [
    {
     "data": {
      "text/plain": [
       "ID               False\n",
       "N_Days           False\n",
       "Status           False\n",
       "Drug              True\n",
       "Age              False\n",
       "Sex              False\n",
       "Ascites           True\n",
       "Hepatomegaly      True\n",
       "Spiders           True\n",
       "Edema            False\n",
       "Bilirubin        False\n",
       "Cholesterol       True\n",
       "Albumin          False\n",
       "Copper            True\n",
       "Alk_Phos          True\n",
       "SGOT              True\n",
       "Tryglicerides     True\n",
       "Platelets         True\n",
       "Prothrombin       True\n",
       "Stage             True\n",
       "dtype: bool"
      ]
     },
     "execution_count": 71,
     "metadata": {},
     "output_type": "execute_result"
    }
   ],
   "source": [
    "#look for missing values \n",
    "df.isna().any()"
   ]
  },
  {
   "cell_type": "code",
   "execution_count": 72,
   "metadata": {},
   "outputs": [
    {
     "data": {
      "text/plain": [
       "ID                 0\n",
       "N_Days             0\n",
       "Status             0\n",
       "Drug             106\n",
       "Age                0\n",
       "Sex                0\n",
       "Ascites          106\n",
       "Hepatomegaly     106\n",
       "Spiders          106\n",
       "Edema              0\n",
       "Bilirubin          0\n",
       "Cholesterol      134\n",
       "Albumin            0\n",
       "Copper           108\n",
       "Alk_Phos         106\n",
       "SGOT             106\n",
       "Tryglicerides    136\n",
       "Platelets         11\n",
       "Prothrombin        2\n",
       "Stage              6\n",
       "dtype: int64"
      ]
     },
     "execution_count": 72,
     "metadata": {},
     "output_type": "execute_result"
    }
   ],
   "source": [
    "#look for missing values number\n",
    "df.isna().sum()"
   ]
  },
  {
   "cell_type": "code",
   "execution_count": 73,
   "metadata": {},
   "outputs": [
    {
     "data": {
      "text/plain": [
       "Index(['ID', 'N_Days', 'Age', 'Bilirubin', 'Cholesterol', 'Albumin', 'Copper',\n",
       "       'Alk_Phos', 'SGOT', 'Tryglicerides', 'Platelets', 'Prothrombin'],\n",
       "      dtype='object')"
      ]
     },
     "execution_count": 73,
     "metadata": {},
     "output_type": "execute_result"
    }
   ],
   "source": [
    "#columns with numerical values \n",
    "num_cols = df._get_numeric_data().columns\n",
    "num_cols\n",
    "for col in num_cols:\n",
    "    if df[col].nunique() <= 4:\n",
    "        num_cols = num_cols.drop(col)\n",
    "\n",
    "num_cols\n"
   ]
  },
  {
   "cell_type": "code",
   "execution_count": 74,
   "metadata": {},
   "outputs": [
    {
     "name": "stdout",
     "output_type": "stream",
     "text": [
      "Bilirubin\n",
      "number of outliers:46\n",
      "max outlier value: 28.0\n",
      "min outlier value: 7.3\n",
      "##############\n",
      "Cholesterol\n",
      "number of outliers:20\n",
      "max outlier value: 1775.0\n",
      "min outlier value: 636.0\n",
      "##############\n",
      "Albumin\n",
      "number of outliers:9\n",
      "max outlier value: 4.64\n",
      "min outlier value: 1.96\n",
      "##############\n",
      "Copper\n",
      "number of outliers:17\n",
      "max outlier value: 588.0\n",
      "min outlier value: 247.0\n",
      "##############\n",
      "Alk_Phos\n",
      "number of outliers:35\n",
      "max outlier value: 13862.4\n",
      "min outlier value: 3681.0\n",
      "##############\n",
      "SGOT\n",
      "number of outliers:7\n",
      "max outlier value: 457.25\n",
      "min outlier value: 272.8\n",
      "##############\n",
      "Tryglicerides\n",
      "number of outliers:10\n",
      "max outlier value: 598.0\n",
      "min outlier value: 260.0\n",
      "##############\n",
      "Platelets\n",
      "number of outliers:6\n",
      "max outlier value: 721.0\n",
      "min outlier value: 514.0\n",
      "##############\n",
      "Prothrombin\n",
      "number of outliers:18\n",
      "max outlier value: 18.0\n",
      "min outlier value: 12.9\n",
      "##############\n"
     ]
    }
   ],
   "source": [
    "def find_outliers_IQR(df):\n",
    "\n",
    "   q1=df.quantile(0.25)\n",
    "\n",
    "   q3=df.quantile(0.75)\n",
    "\n",
    "   IQR=q3-q1\n",
    "\n",
    "   outliers = df[((df<(q1-1.5*IQR)) | (df>(q3+1.5*IQR)))]\n",
    "\n",
    "   return outliers\n",
    "for col in num_cols:\n",
    "    outliers = find_outliers_IQR(df[col])\n",
    "    if len(outliers) >0:\n",
    "        print(col)\n",
    "        \n",
    "        print( 'number of outliers:'+ str(len(outliers)))\n",
    "\n",
    "        print('max outlier value: '+ str(outliers.max()))\n",
    "\n",
    "        print('min outlier value: '+ str(outliers.min()))\n",
    "       \n",
    "        print('##############')"
   ]
  },
  {
   "cell_type": "code",
   "execution_count": 75,
   "metadata": {},
   "outputs": [
    {
     "data": {
      "text/html": [
       "<div>\n",
       "<style scoped>\n",
       "    .dataframe tbody tr th:only-of-type {\n",
       "        vertical-align: middle;\n",
       "    }\n",
       "\n",
       "    .dataframe tbody tr th {\n",
       "        vertical-align: top;\n",
       "    }\n",
       "\n",
       "    .dataframe thead th {\n",
       "        text-align: right;\n",
       "    }\n",
       "</style>\n",
       "<table border=\"1\" class=\"dataframe\">\n",
       "  <thead>\n",
       "    <tr style=\"text-align: right;\">\n",
       "      <th></th>\n",
       "      <th>ID</th>\n",
       "      <th>N_Days</th>\n",
       "      <th>Age</th>\n",
       "      <th>Bilirubin</th>\n",
       "      <th>Cholesterol</th>\n",
       "      <th>Albumin</th>\n",
       "      <th>Copper</th>\n",
       "      <th>Alk_Phos</th>\n",
       "      <th>SGOT</th>\n",
       "      <th>Tryglicerides</th>\n",
       "      <th>Platelets</th>\n",
       "      <th>Prothrombin</th>\n",
       "      <th>Stage</th>\n",
       "    </tr>\n",
       "  </thead>\n",
       "  <tbody>\n",
       "    <tr>\n",
       "      <th>count</th>\n",
       "      <td>418.000000</td>\n",
       "      <td>418.000000</td>\n",
       "      <td>418.000000</td>\n",
       "      <td>418.000000</td>\n",
       "      <td>284.000000</td>\n",
       "      <td>418.000000</td>\n",
       "      <td>310.000000</td>\n",
       "      <td>312.000000</td>\n",
       "      <td>312.000000</td>\n",
       "      <td>282.000000</td>\n",
       "      <td>407.000000</td>\n",
       "      <td>416.000000</td>\n",
       "      <td>412.000000</td>\n",
       "    </tr>\n",
       "    <tr>\n",
       "      <th>mean</th>\n",
       "      <td>209.500000</td>\n",
       "      <td>1917.782297</td>\n",
       "      <td>18533.351675</td>\n",
       "      <td>3.220813</td>\n",
       "      <td>369.510563</td>\n",
       "      <td>3.497440</td>\n",
       "      <td>97.648387</td>\n",
       "      <td>1982.655769</td>\n",
       "      <td>122.556346</td>\n",
       "      <td>124.702128</td>\n",
       "      <td>257.024570</td>\n",
       "      <td>10.376442</td>\n",
       "      <td>3.024272</td>\n",
       "    </tr>\n",
       "    <tr>\n",
       "      <th>std</th>\n",
       "      <td>120.810458</td>\n",
       "      <td>1104.672992</td>\n",
       "      <td>3815.845055</td>\n",
       "      <td>4.407506</td>\n",
       "      <td>231.944545</td>\n",
       "      <td>0.424972</td>\n",
       "      <td>85.613920</td>\n",
       "      <td>2140.388824</td>\n",
       "      <td>56.699525</td>\n",
       "      <td>65.148639</td>\n",
       "      <td>98.325585</td>\n",
       "      <td>0.385737</td>\n",
       "      <td>0.882042</td>\n",
       "    </tr>\n",
       "    <tr>\n",
       "      <th>min</th>\n",
       "      <td>1.000000</td>\n",
       "      <td>41.000000</td>\n",
       "      <td>9598.000000</td>\n",
       "      <td>0.300000</td>\n",
       "      <td>120.000000</td>\n",
       "      <td>1.960000</td>\n",
       "      <td>4.000000</td>\n",
       "      <td>289.000000</td>\n",
       "      <td>26.350000</td>\n",
       "      <td>33.000000</td>\n",
       "      <td>62.000000</td>\n",
       "      <td>9.000000</td>\n",
       "      <td>1.000000</td>\n",
       "    </tr>\n",
       "    <tr>\n",
       "      <th>25%</th>\n",
       "      <td>105.250000</td>\n",
       "      <td>1092.750000</td>\n",
       "      <td>15644.500000</td>\n",
       "      <td>0.800000</td>\n",
       "      <td>249.500000</td>\n",
       "      <td>3.242500</td>\n",
       "      <td>41.250000</td>\n",
       "      <td>871.500000</td>\n",
       "      <td>80.600000</td>\n",
       "      <td>84.250000</td>\n",
       "      <td>188.500000</td>\n",
       "      <td>10.000000</td>\n",
       "      <td>2.000000</td>\n",
       "    </tr>\n",
       "    <tr>\n",
       "      <th>50%</th>\n",
       "      <td>209.500000</td>\n",
       "      <td>1730.000000</td>\n",
       "      <td>18628.000000</td>\n",
       "      <td>1.400000</td>\n",
       "      <td>309.500000</td>\n",
       "      <td>3.530000</td>\n",
       "      <td>73.000000</td>\n",
       "      <td>1259.000000</td>\n",
       "      <td>114.700000</td>\n",
       "      <td>108.000000</td>\n",
       "      <td>251.000000</td>\n",
       "      <td>10.600000</td>\n",
       "      <td>3.000000</td>\n",
       "    </tr>\n",
       "    <tr>\n",
       "      <th>75%</th>\n",
       "      <td>313.750000</td>\n",
       "      <td>2613.500000</td>\n",
       "      <td>21272.500000</td>\n",
       "      <td>3.400000</td>\n",
       "      <td>400.000000</td>\n",
       "      <td>3.770000</td>\n",
       "      <td>123.000000</td>\n",
       "      <td>1980.000000</td>\n",
       "      <td>151.900000</td>\n",
       "      <td>151.000000</td>\n",
       "      <td>318.000000</td>\n",
       "      <td>10.600000</td>\n",
       "      <td>4.000000</td>\n",
       "    </tr>\n",
       "    <tr>\n",
       "      <th>max</th>\n",
       "      <td>418.000000</td>\n",
       "      <td>4795.000000</td>\n",
       "      <td>28650.000000</td>\n",
       "      <td>28.000000</td>\n",
       "      <td>1775.000000</td>\n",
       "      <td>4.640000</td>\n",
       "      <td>588.000000</td>\n",
       "      <td>13862.400000</td>\n",
       "      <td>457.250000</td>\n",
       "      <td>598.000000</td>\n",
       "      <td>721.000000</td>\n",
       "      <td>10.600000</td>\n",
       "      <td>4.000000</td>\n",
       "    </tr>\n",
       "  </tbody>\n",
       "</table>\n",
       "</div>"
      ],
      "text/plain": [
       "               ID       N_Days           Age   Bilirubin  Cholesterol  \\\n",
       "count  418.000000   418.000000    418.000000  418.000000   284.000000   \n",
       "mean   209.500000  1917.782297  18533.351675    3.220813   369.510563   \n",
       "std    120.810458  1104.672992   3815.845055    4.407506   231.944545   \n",
       "min      1.000000    41.000000   9598.000000    0.300000   120.000000   \n",
       "25%    105.250000  1092.750000  15644.500000    0.800000   249.500000   \n",
       "50%    209.500000  1730.000000  18628.000000    1.400000   309.500000   \n",
       "75%    313.750000  2613.500000  21272.500000    3.400000   400.000000   \n",
       "max    418.000000  4795.000000  28650.000000   28.000000  1775.000000   \n",
       "\n",
       "          Albumin      Copper      Alk_Phos        SGOT  Tryglicerides  \\\n",
       "count  418.000000  310.000000    312.000000  312.000000     282.000000   \n",
       "mean     3.497440   97.648387   1982.655769  122.556346     124.702128   \n",
       "std      0.424972   85.613920   2140.388824   56.699525      65.148639   \n",
       "min      1.960000    4.000000    289.000000   26.350000      33.000000   \n",
       "25%      3.242500   41.250000    871.500000   80.600000      84.250000   \n",
       "50%      3.530000   73.000000   1259.000000  114.700000     108.000000   \n",
       "75%      3.770000  123.000000   1980.000000  151.900000     151.000000   \n",
       "max      4.640000  588.000000  13862.400000  457.250000     598.000000   \n",
       "\n",
       "        Platelets  Prothrombin       Stage  \n",
       "count  407.000000   416.000000  412.000000  \n",
       "mean   257.024570    10.376442    3.024272  \n",
       "std     98.325585     0.385737    0.882042  \n",
       "min     62.000000     9.000000    1.000000  \n",
       "25%    188.500000    10.000000    2.000000  \n",
       "50%    251.000000    10.600000    3.000000  \n",
       "75%    318.000000    10.600000    4.000000  \n",
       "max    721.000000    10.600000    4.000000  "
      ]
     },
     "execution_count": 75,
     "metadata": {},
     "output_type": "execute_result"
    }
   ],
   "source": [
    "#replace outliers with median value \n",
    "outliers_cols = []\n",
    "for col in num_cols:\n",
    "    outliers = find_outliers_IQR(df[col])\n",
    "    if len(outliers) >0:\n",
    "        outliers_cols.append(col)\n",
    "for col in outliers_cols:\n",
    "    if col == 'Prothrombin':\n",
    "        median = df[col].quantile(0.50)\n",
    "        high = df[col].quantile(0.25)\n",
    "        low = df[col].quantile(0.75)\n",
    "        df[col] = np.where(df[col] > high, median, df[col])\n",
    "#         df[col] = np.where(df[col] < low, median, df[col])\n",
    "df.describe()\n",
    "\n",
    "    "
   ]
  },
  {
   "cell_type": "code",
   "execution_count": 1,
   "metadata": {},
   "outputs": [
    {
     "ename": "NameError",
     "evalue": "name 'num_cols' is not defined",
     "output_type": "error",
     "traceback": [
      "\u001B[0;31m---------------------------------------------------------------------------\u001B[0m",
      "\u001B[0;31mNameError\u001B[0m                                 Traceback (most recent call last)",
      "\u001B[0;32m<ipython-input-1-b65355f9a85c>\u001B[0m in \u001B[0;36m<module>\u001B[0;34m\u001B[0m\n\u001B[1;32m      1\u001B[0m \u001B[0;31m#columns with numerical values missing\u001B[0m\u001B[0;34m\u001B[0m\u001B[0;34m\u001B[0m\u001B[0;34m\u001B[0m\u001B[0m\n\u001B[1;32m      2\u001B[0m \u001B[0mcontentious_cols_nan\u001B[0m \u001B[0;34m=\u001B[0m \u001B[0;34m[\u001B[0m\u001B[0;34m]\u001B[0m\u001B[0;34m\u001B[0m\u001B[0;34m\u001B[0m\u001B[0m\n\u001B[0;32m----> 3\u001B[0;31m \u001B[0;32mfor\u001B[0m \u001B[0mcol\u001B[0m \u001B[0;32min\u001B[0m \u001B[0mnum_cols\u001B[0m\u001B[0;34m:\u001B[0m\u001B[0;34m\u001B[0m\u001B[0;34m\u001B[0m\u001B[0m\n\u001B[0m\u001B[1;32m      4\u001B[0m     \u001B[0;32mif\u001B[0m \u001B[0mdf\u001B[0m\u001B[0;34m[\u001B[0m\u001B[0mcol\u001B[0m\u001B[0;34m]\u001B[0m\u001B[0;34m.\u001B[0m\u001B[0misnull\u001B[0m\u001B[0;34m(\u001B[0m\u001B[0;34m)\u001B[0m\u001B[0;34m.\u001B[0m\u001B[0mvalues\u001B[0m\u001B[0;34m.\u001B[0m\u001B[0many\u001B[0m\u001B[0;34m(\u001B[0m\u001B[0;34m)\u001B[0m\u001B[0;34m:\u001B[0m\u001B[0;34m\u001B[0m\u001B[0;34m\u001B[0m\u001B[0m\n\u001B[1;32m      5\u001B[0m         \u001B[0mcontentious_cols_nan\u001B[0m\u001B[0;34m.\u001B[0m\u001B[0mappend\u001B[0m\u001B[0;34m(\u001B[0m\u001B[0mcol\u001B[0m\u001B[0;34m)\u001B[0m\u001B[0;34m\u001B[0m\u001B[0;34m\u001B[0m\u001B[0m\n",
      "\u001B[0;31mNameError\u001B[0m: name 'num_cols' is not defined"
     ]
    }
   ],
   "source": [
    "#columns with numerical values missing \n",
    "contentious_cols_nan = []\n",
    "for col in num_cols:\n",
    "    if df[col].isnull().values.any():\n",
    "        contentious_cols_nan.append(col)\n",
    "contentious_cols_nan"
   ]
  },
  {
   "cell_type": "code",
   "execution_count": null,
   "metadata": {},
   "outputs": [],
   "source": [
    "#looking into categorial data \n",
    "categorial_data=df.loc[:,df.nunique() <= 4]\n",
    "cat_cols = [col for col in df.columns if col in categorial_data]\n",
    "cat_cols\n",
    "\n"
   ]
  },
  {
   "cell_type": "code",
   "execution_count": null,
   "metadata": {},
   "outputs": [],
   "source": [
    "df[cat_cols].isna().any()"
   ]
  },
  {
   "cell_type": "code",
   "execution_count": null,
   "metadata": {},
   "outputs": [],
   "source": [
    "#columns with categorial values missing \n",
    "cat_cols_nan = []\n",
    "for col in cat_cols:\n",
    "    if df[col].isnull().values.any():\n",
    "        cat_cols_nan.append(col)\n",
    "cat_cols_nan"
   ]
  },
  {
   "cell_type": "code",
   "execution_count": null,
   "metadata": {},
   "outputs": [],
   "source": [
    "for col in cat_cols_nan:\n",
    "    print(df[col].unique())"
   ]
  },
  {
   "cell_type": "code",
   "execution_count": null,
   "metadata": {},
   "outputs": [],
   "source": [
    "for col in cat_cols_nan:\n",
    "    print(df[col].value_counts(dropna = False, normalize = True))"
   ]
  },
  {
   "cell_type": "code",
   "execution_count": null,
   "metadata": {},
   "outputs": [],
   "source": [
    "# fill missing valuesin categorial columns while keeping ratio\n",
    "for col in cat_cols_nan:\n",
    "    nans = df[col].isna()\n",
    "\n",
    "    length = sum(nans)\n",
    "    val_list = df[col].dropna().unique() #all categories\n",
    "    num_val = [] #count of each category while keeping the same order as in val_list \n",
    "    for val_1 in val_list:\n",
    "        count = (df[col] == val_1).sum()\n",
    "        num_val.append(count)\n",
    "    num_val_ratio= [] #ration of each category while keeping the same order as in val_list\n",
    "    for val_2 in num_val:\n",
    "        ratio = val_2/sum(num_val)\n",
    "        num_val_ratio.append(ratio)\n",
    "\n",
    "    replacement = random.choices(val_list, weights=num_val_ratio, k=length)\n",
    "    df.loc[nans,col] = replacement\n",
    "\n",
    "df"
   ]
  },
  {
   "cell_type": "code",
   "execution_count": null,
   "metadata": {},
   "outputs": [],
   "source": [
    "# change categorial columns to numbers \n",
    "encoder = preprocessing.LabelEncoder()\n",
    "for col in cat_cols:\n",
    "    df[col] = encoder.fit_transform(df[col])\n",
    "df"
   ]
  },
  {
   "cell_type": "code",
   "execution_count": null,
   "metadata": {},
   "outputs": [],
   "source": [
    "#KNN to add values to empty spots in coiumns with contentious values \n",
    "imputer = KNNImputer(n_neighbors=5)\n",
    "df_imputation = pd.DataFrame(imputer.fit_transform(df),columns = df.columns)\n",
    "\n",
    "df_imputation"
   ]
  },
  {
   "cell_type": "code",
   "execution_count": null,
   "metadata": {},
   "outputs": [],
   "source": [
    "df_imputation.isna().any()"
   ]
  },
  {
   "cell_type": "code",
   "execution_count": null,
   "metadata": {},
   "outputs": [],
   "source": [
    "ax = sns.countplot(data = df_imputation, x = 'Stage',palette='rainbow')\n"
   ]
  },
  {
   "cell_type": "code",
   "execution_count": null,
   "metadata": {},
   "outputs": [],
   "source": [
    "# Split the data for train and test \n",
    "x, y = df_imputation.drop(['ID', 'Stage'], axis=1), df_imputation['Stage']\n",
    "x_train, x_test, y_train, y_test = train_test_split(x, y, train_size = 0.8)\n",
    "print(x_train.shape, x_test.shape)"
   ]
  },
  {
   "cell_type": "code",
   "execution_count": null,
   "metadata": {},
   "outputs": [],
   "source": [
    "from sklearn.svm import SVC\n",
    "classifier_svc = SVC(kernel = 'linear', random_state = 0)\n",
    "classifier_svc.fit(x_train, y_train)\n",
    "y_pred_svc = classifier_svc.predict(x_test)\n",
    "from sklearn.metrics import accuracy_score\n",
    "print(\"SVM - \" , accuracy_score(y_test, y_pred_svc))\n",
    "\n"
   ]
  },
  {
   "cell_type": "code",
   "execution_count": null,
   "metadata": {},
   "outputs": [],
   "source": [
    "# Random Forest\n",
    "from sklearn.ensemble import RandomForestClassifier\n",
    "from sklearn.metrics import roc_auc_score\n",
    "\n",
    "rf = RandomForestClassifier(criterion = 'entropy', max_depth = 20, n_estimators = 100)\n",
    "rf.fit(x_train, y_train)\n",
    "probs = rf.predict_proba(x_test)\n",
    "score = roc_auc_score(y_test, probs, multi_class = 'ovr')\n",
    "score"
   ]
  },
  {
   "cell_type": "code",
   "execution_count": null,
   "metadata": {},
   "outputs": [],
   "source": [
    "# XGB\n",
    "from xgboost import XGBClassifier\n",
    "from sklearn.model_selection import cross_val_score, KFold\n",
    "from sklearn.metrics import confusion_matrix\n",
    "\n",
    "\n",
    "xgbc = XGBClassifier()\n",
    "xgbc.fit(x_train, y_train)\n",
    "\n",
    "# - cross validataion\n",
    "scores = cross_val_score(xgbc, x_train, y_train, cv=5)\n",
    "print(\"Mean cross-validation score: %.2f\" % scores.mean())\n",
    "\n",
    "kfold = KFold(n_splits=10, shuffle=True)\n",
    "kf_cv_scores = cross_val_score(xgbc, x_train, y_train, cv=kfold )\n",
    "print(\"K-fold CV average score: %.2f\" % kf_cv_scores.mean())\n",
    "\n",
    "ypred = xgbc.predict(x_test)\n",
    "cm = confusion_matrix(y_test,ypred)\n",
    "print(cm)\n",
    "\n"
   ]
  },
  {
   "cell_type": "code",
   "execution_count": null,
   "metadata": {},
   "outputs": [],
   "source": [
    "from sklearn.model_selection import GridSearchCV\n",
    "\n",
    "xgb = XGBClassifier(use_label_encoder = False, eval_metric = 'mlogloss')\n",
    "param_grid_xgb = [{'eta' : [0.005, 0.05, 0.1, 0.3, 0.5], 'max_depth' : [2, 4, 6, 8, 10], 'lambda': [0.25, 0.5, 1, 1.5, 2]}]\n",
    "grid_search_xgb = GridSearchCV(xgb, param_grid_xgb, cv = 5, return_train_score = True)\n",
    "grid_search_xgb.fit(x_train, y_train)\n",
    "grid_search_xgb.best_params_, grid_search_xgb.best_score_"
   ]
  },
  {
   "cell_type": "code",
   "execution_count": null,
   "metadata": {},
   "outputs": [],
   "source": [
    "# Decsion Tree\n",
    "\n",
    "from sklearn.tree import DecisionTreeClassifier\n",
    "classifier_dt = DecisionTreeClassifier(criterion = 'entropy', random_state = 0)\n",
    "classifier_dt.fit(x_train, y_train)\n",
    "y_pred_dt = classifier_dt.predict(x_test)\n",
    "print(\"Decision Tree - \", accuracy_score(y_test, y_pred_dt))\n"
   ]
  },
  {
   "cell_type": "code",
   "execution_count": null,
   "metadata": {},
   "outputs": [],
   "source": [
    "# Neural Network\n",
    "import tensorflow as tf\n",
    "\n",
    "# set seed\n",
    "tf.random.set_seed(42)\n",
    "\n",
    "# model\n",
    "model = tf.keras.Sequential([\n",
    "    tf.keras.layers.Dense(4, activation=\"relu\"),\n",
    "    tf.keras.layers.Dense(100, activation=\"relu\"),\n",
    "    tf.keras.layers.Dense(10, activation=\"relu\"),\n",
    "    tf.keras.layers.Dense(4)\n",
    "])\n",
    "\n",
    "# compile\n",
    "model.compile(loss=\"binary_crossentropy\",\n",
    "                optimizer=tf.keras.optimizers.Adam(lr=0.01),\n",
    "                metrics=\"accuracy\")\n",
    "\n",
    "# fit model\n",
    "model.fit(X_train, y_train, epochs=500, verbose=0)"
   ]
  },
  {
   "cell_type": "code",
   "execution_count": null,
   "metadata": {},
   "outputs": [],
   "source": []
  },
  {
   "cell_type": "code",
   "execution_count": null,
   "metadata": {},
   "outputs": [],
   "source": []
  },
  {
   "cell_type": "code",
   "execution_count": null,
   "metadata": {},
   "outputs": [],
   "source": []
  },
  {
   "cell_type": "code",
   "execution_count": null,
   "metadata": {},
   "outputs": [],
   "source": []
  }
 ],
 "metadata": {
  "kernelspec": {
   "display_name": "Python 3",
   "language": "python",
   "name": "python3"
  },
  "language_info": {
   "codemirror_mode": {
    "name": "ipython",
    "version": 3
   },
   "file_extension": ".py",
   "mimetype": "text/x-python",
   "name": "python",
   "nbconvert_exporter": "python",
   "pygments_lexer": "ipython3",
   "version": "3.8.5"
  }
 },
 "nbformat": 4,
 "nbformat_minor": 5
}
